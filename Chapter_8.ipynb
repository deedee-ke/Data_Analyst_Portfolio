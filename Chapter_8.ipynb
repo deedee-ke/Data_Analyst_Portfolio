{
  "nbformat": 4,
  "nbformat_minor": 0,
  "metadata": {
    "colab": {
      "provenance": [],
      "authorship_tag": "ABX9TyPgzldPOsp/+JenOjCeOaQf",
      "include_colab_link": true
    },
    "kernelspec": {
      "name": "python3",
      "display_name": "Python 3"
    },
    "language_info": {
      "name": "python"
    }
  },
  "cells": [
    {
      "cell_type": "markdown",
      "metadata": {
        "id": "view-in-github",
        "colab_type": "text"
      },
      "source": [
        "<a href=\"https://colab.research.google.com/github/deedee-ke/practice/blob/main/Chapter_8.ipynb\" target=\"_parent\"><img src=\"https://colab.research.google.com/assets/colab-badge.svg\" alt=\"Open In Colab\"/></a>"
      ]
    },
    {
      "cell_type": "code",
      "execution_count": 1,
      "metadata": {
        "colab": {
          "base_uri": "https://localhost:8080/"
        },
        "id": "6mhR06CWLyFd",
        "outputId": "1c433561-fa8d-4159-abee-1a9a5127c13e"
      },
      "outputs": [
        {
          "output_type": "execute_result",
          "data": {
            "text/plain": [
              "[1, 2, 3, 4]"
            ]
          },
          "metadata": {},
          "execution_count": 1
        }
      ],
      "source": [
        "a = [1, 2, 3]\n",
        "b = a\n",
        "a.append(4)\n",
        "b"
      ]
    },
    {
      "cell_type": "code",
      "source": [
        "class Gizmo:\n",
        "  def __init__(self):\n",
        "    print('Gizmo id: %d' % id(self))\n",
        "\n",
        "x = Gizmo()"
      ],
      "metadata": {
        "colab": {
          "base_uri": "https://localhost:8080/"
        },
        "id": "09ciRpbBL9_a",
        "outputId": "c4639ace-d65e-4b6e-9b6f-434a2faae1c5"
      },
      "execution_count": 2,
      "outputs": [
        {
          "output_type": "stream",
          "name": "stdout",
          "text": [
            "Gizmo id: 137376417082832\n"
          ]
        }
      ]
    },
    {
      "cell_type": "code",
      "source": [
        "y = Gizmo() * 10"
      ],
      "metadata": {
        "colab": {
          "base_uri": "https://localhost:8080/",
          "height": 194
        },
        "id": "Ud_zxjwSMp7S",
        "outputId": "290d783a-e520-435e-dc11-a144493d5bca"
      },
      "execution_count": 3,
      "outputs": [
        {
          "output_type": "stream",
          "name": "stdout",
          "text": [
            "Gizmo id: 137376417083600\n"
          ]
        },
        {
          "output_type": "error",
          "ename": "TypeError",
          "evalue": "ignored",
          "traceback": [
            "\u001b[0;31m---------------------------------------------------------------------------\u001b[0m",
            "\u001b[0;31mTypeError\u001b[0m                                 Traceback (most recent call last)",
            "\u001b[0;32m<ipython-input-3-2beac7b9470d>\u001b[0m in \u001b[0;36m<cell line: 1>\u001b[0;34m()\u001b[0m\n\u001b[0;32m----> 1\u001b[0;31m \u001b[0my\u001b[0m \u001b[0;34m=\u001b[0m \u001b[0mGizmo\u001b[0m\u001b[0;34m(\u001b[0m\u001b[0;34m)\u001b[0m \u001b[0;34m*\u001b[0m \u001b[0;36m10\u001b[0m\u001b[0;34m\u001b[0m\u001b[0;34m\u001b[0m\u001b[0m\n\u001b[0m",
            "\u001b[0;31mTypeError\u001b[0m: unsupported operand type(s) for *: 'Gizmo' and 'int'"
          ]
        }
      ]
    },
    {
      "cell_type": "code",
      "source": [
        "dir()"
      ],
      "metadata": {
        "colab": {
          "base_uri": "https://localhost:8080/"
        },
        "id": "VjLEWu2EM1Zv",
        "outputId": "ed79ff68-d3ed-4b8c-9a51-b1de9da3d54c"
      },
      "execution_count": 4,
      "outputs": [
        {
          "output_type": "execute_result",
          "data": {
            "text/plain": [
              "['Gizmo',\n",
              " 'In',\n",
              " 'Out',\n",
              " '_',\n",
              " '_1',\n",
              " '__',\n",
              " '___',\n",
              " '__builtin__',\n",
              " '__builtins__',\n",
              " '__doc__',\n",
              " '__loader__',\n",
              " '__name__',\n",
              " '__package__',\n",
              " '__spec__',\n",
              " '_dh',\n",
              " '_i',\n",
              " '_i1',\n",
              " '_i2',\n",
              " '_i3',\n",
              " '_i4',\n",
              " '_ih',\n",
              " '_ii',\n",
              " '_iii',\n",
              " '_oh',\n",
              " 'a',\n",
              " 'b',\n",
              " 'exit',\n",
              " 'get_ipython',\n",
              " 'quit',\n",
              " 'x']"
            ]
          },
          "metadata": {},
          "execution_count": 4
        }
      ]
    },
    {
      "cell_type": "code",
      "source": [
        "charles = {'name': 'Charles L. Dodgson', 'born': 1832}\n",
        "lewis = charles\n",
        "lewis is charles"
      ],
      "metadata": {
        "colab": {
          "base_uri": "https://localhost:8080/"
        },
        "id": "WtVPwNNPM48f",
        "outputId": "a7748a25-3dc7-4d89-b099-ab0c2115b4e4"
      },
      "execution_count": 10,
      "outputs": [
        {
          "output_type": "execute_result",
          "data": {
            "text/plain": [
              "True"
            ]
          },
          "metadata": {},
          "execution_count": 10
        }
      ]
    },
    {
      "cell_type": "code",
      "source": [
        "id(charles), id(lewis)"
      ],
      "metadata": {
        "colab": {
          "base_uri": "https://localhost:8080/"
        },
        "id": "-dgjYmccNPmm",
        "outputId": "a6a48105-2fd0-4111-d2b7-e3a933addc20"
      },
      "execution_count": 11,
      "outputs": [
        {
          "output_type": "execute_result",
          "data": {
            "text/plain": [
              "(137376416443136, 137376416443136)"
            ]
          },
          "metadata": {},
          "execution_count": 11
        }
      ]
    },
    {
      "cell_type": "code",
      "source": [
        "lewis['balance'] = 950\n",
        "charles"
      ],
      "metadata": {
        "colab": {
          "base_uri": "https://localhost:8080/"
        },
        "id": "-Zy55HkJNTUM",
        "outputId": "78dedbb7-8c72-48aa-e107-0e36a5a9a653"
      },
      "execution_count": 12,
      "outputs": [
        {
          "output_type": "execute_result",
          "data": {
            "text/plain": [
              "{'name': 'Charles L. Dodgson', 'born': 1832, 'balance': 950}"
            ]
          },
          "metadata": {},
          "execution_count": 12
        }
      ]
    },
    {
      "cell_type": "code",
      "source": [
        "alex = {'name': 'Charles L. Dodgson', 'born': 1832, 'balance': 950}\n",
        "alex == charles"
      ],
      "metadata": {
        "colab": {
          "base_uri": "https://localhost:8080/"
        },
        "id": "k_9F_HdyNaCs",
        "outputId": "83c3caef-1396-405b-9e29-cbf0ea9700aa"
      },
      "execution_count": 13,
      "outputs": [
        {
          "output_type": "execute_result",
          "data": {
            "text/plain": [
              "True"
            ]
          },
          "metadata": {},
          "execution_count": 13
        }
      ]
    },
    {
      "cell_type": "code",
      "source": [
        "alex is not charles"
      ],
      "metadata": {
        "colab": {
          "base_uri": "https://localhost:8080/"
        },
        "id": "3BCKutRgN050",
        "outputId": "cd28ca76-faeb-49cd-b0d6-341b474fce0c"
      },
      "execution_count": 15,
      "outputs": [
        {
          "output_type": "execute_result",
          "data": {
            "text/plain": [
              "True"
            ]
          },
          "metadata": {},
          "execution_count": 15
        }
      ]
    },
    {
      "cell_type": "code",
      "source": [
        "t1 = (1, 2, [30, 40])\n",
        "t2 = (1, 2, [30, 40])\n",
        "t1 == t2"
      ],
      "metadata": {
        "colab": {
          "base_uri": "https://localhost:8080/"
        },
        "id": "5UT1y7blOBtW",
        "outputId": "ceca24f9-06ea-4073-bf0c-b371c134af84"
      },
      "execution_count": 16,
      "outputs": [
        {
          "output_type": "execute_result",
          "data": {
            "text/plain": [
              "True"
            ]
          },
          "metadata": {},
          "execution_count": 16
        }
      ]
    },
    {
      "cell_type": "code",
      "source": [
        "id(t1[-1])"
      ],
      "metadata": {
        "colab": {
          "base_uri": "https://localhost:8080/"
        },
        "id": "x2nyNF8WOeNY",
        "outputId": "4a353cc9-b73f-466d-be9a-a53d268cc1f1"
      },
      "execution_count": 17,
      "outputs": [
        {
          "output_type": "execute_result",
          "data": {
            "text/plain": [
              "137376416299968"
            ]
          },
          "metadata": {},
          "execution_count": 17
        }
      ]
    },
    {
      "cell_type": "code",
      "source": [
        "t1[-1].append(99)\n",
        "t1"
      ],
      "metadata": {
        "colab": {
          "base_uri": "https://localhost:8080/"
        },
        "id": "5QG502bDOhMu",
        "outputId": "b3f7ed9c-7a49-4f33-a41e-3bf29f763e57"
      },
      "execution_count": 18,
      "outputs": [
        {
          "output_type": "execute_result",
          "data": {
            "text/plain": [
              "(1, 2, [30, 40, 99])"
            ]
          },
          "metadata": {},
          "execution_count": 18
        }
      ]
    },
    {
      "cell_type": "code",
      "source": [
        "id(t1[-1])"
      ],
      "metadata": {
        "colab": {
          "base_uri": "https://localhost:8080/"
        },
        "id": "14iZXucMOm_e",
        "outputId": "9db0503b-8fc6-405a-f98f-e13152946c18"
      },
      "execution_count": 19,
      "outputs": [
        {
          "output_type": "execute_result",
          "data": {
            "text/plain": [
              "137376416299968"
            ]
          },
          "metadata": {},
          "execution_count": 19
        }
      ]
    },
    {
      "cell_type": "code",
      "source": [
        "t1 == t2"
      ],
      "metadata": {
        "colab": {
          "base_uri": "https://localhost:8080/"
        },
        "id": "9eB9IWrkOr8c",
        "outputId": "b2df4d7d-e6c8-4c7c-d690-23219a6e435d"
      },
      "execution_count": 20,
      "outputs": [
        {
          "output_type": "execute_result",
          "data": {
            "text/plain": [
              "False"
            ]
          },
          "metadata": {},
          "execution_count": 20
        }
      ]
    },
    {
      "cell_type": "code",
      "source": [
        "l1 = [3, [55, 44], (7, 8, 9)]\n",
        "l2 = list(l1)\n",
        "l2"
      ],
      "metadata": {
        "colab": {
          "base_uri": "https://localhost:8080/"
        },
        "id": "mkSIkfplOt_k",
        "outputId": "61ad7cd6-5942-4eb5-869f-2828489e80d5"
      },
      "execution_count": 21,
      "outputs": [
        {
          "output_type": "execute_result",
          "data": {
            "text/plain": [
              "[3, [55, 44], (7, 8, 9)]"
            ]
          },
          "metadata": {},
          "execution_count": 21
        }
      ]
    },
    {
      "cell_type": "code",
      "source": [
        "l2 == l1"
      ],
      "metadata": {
        "colab": {
          "base_uri": "https://localhost:8080/"
        },
        "id": "q7_UMKxlO4zo",
        "outputId": "c4c1ebe9-2c99-4642-e206-d8632ad8b8df"
      },
      "execution_count": 22,
      "outputs": [
        {
          "output_type": "execute_result",
          "data": {
            "text/plain": [
              "True"
            ]
          },
          "metadata": {},
          "execution_count": 22
        }
      ]
    },
    {
      "cell_type": "code",
      "source": [
        "l2 is l1"
      ],
      "metadata": {
        "colab": {
          "base_uri": "https://localhost:8080/"
        },
        "id": "BTaAfZygO7HK",
        "outputId": "03a35cec-9cab-426b-ecb3-d961e3f0a74e"
      },
      "execution_count": 23,
      "outputs": [
        {
          "output_type": "execute_result",
          "data": {
            "text/plain": [
              "False"
            ]
          },
          "metadata": {},
          "execution_count": 23
        }
      ]
    },
    {
      "cell_type": "code",
      "source": [
        "l1 = [3, [66, 55, 44], (7, 8, 9)]\n",
        "l2 = list(l1)\n",
        "l1.append(100)\n",
        "l1[1].remove(55)\n",
        "print('l1:', l1)\n",
        "print('l2;', l2)\n",
        "l2[1] += [33, 22]\n",
        "l2[2] += (10, 11)\n",
        "print('l1:', l1)\n",
        "print('l2:', l2)"
      ],
      "metadata": {
        "colab": {
          "base_uri": "https://localhost:8080/"
        },
        "id": "xjENnTLUO9gd",
        "outputId": "089a7194-ff49-452c-c2e4-f3ebc89945b7"
      },
      "execution_count": 24,
      "outputs": [
        {
          "output_type": "stream",
          "name": "stdout",
          "text": [
            "l1: [3, [66, 44], (7, 8, 9), 100]\n",
            "l2; [3, [66, 44], (7, 8, 9)]\n",
            "l1: [3, [66, 44, 33, 22], (7, 8, 9), 100]\n",
            "l2: [3, [66, 44, 33, 22], (7, 8, 9, 10, 11)]\n"
          ]
        }
      ]
    },
    {
      "cell_type": "code",
      "source": [
        "class Bus:\n",
        "\n",
        "  def __init__(self, passengers=None):\n",
        "    if passengers is None:\n",
        "      self.passengers = []\n",
        "    else:\n",
        "      self.passengers = list(passengers)\n",
        "\n",
        "  def pick(self, name):\n",
        "    self.passengers.append(name)\n",
        "\n",
        "  def drop(self, name):\n",
        "    self.passengers.remove(name)"
      ],
      "metadata": {
        "id": "qd6pThvQQOQa"
      },
      "execution_count": 25,
      "outputs": []
    },
    {
      "cell_type": "code",
      "source": [
        "import copy"
      ],
      "metadata": {
        "id": "5-k-LKw6RBFb"
      },
      "execution_count": 26,
      "outputs": []
    },
    {
      "cell_type": "code",
      "source": [
        "bus1 = Bus(['Alice', 'Bill', 'Claire', 'David'])\n",
        "bus2 = copy.copy(bus1)\n",
        "bus3 = copy.deepcopy(bus1)\n",
        "id(bus1), id(bus2), id(bus3)"
      ],
      "metadata": {
        "colab": {
          "base_uri": "https://localhost:8080/"
        },
        "id": "58D9sz6yRFGl",
        "outputId": "7e9accba-e014-4a50-c157-59e5c44a9d09"
      },
      "execution_count": 27,
      "outputs": [
        {
          "output_type": "execute_result",
          "data": {
            "text/plain": [
              "(137376416799360, 137376416795328, 137376416805216)"
            ]
          },
          "metadata": {},
          "execution_count": 27
        }
      ]
    },
    {
      "cell_type": "code",
      "source": [
        "bus1.drop('Bill')\n",
        "bus2.passengers"
      ],
      "metadata": {
        "colab": {
          "base_uri": "https://localhost:8080/"
        },
        "id": "HpXWpzROUbdx",
        "outputId": "6bde5395-284a-479d-a72e-d4bce92d0c64"
      },
      "execution_count": 28,
      "outputs": [
        {
          "output_type": "execute_result",
          "data": {
            "text/plain": [
              "['Alice', 'Claire', 'David']"
            ]
          },
          "metadata": {},
          "execution_count": 28
        }
      ]
    },
    {
      "cell_type": "code",
      "source": [
        "id(bus1.passengers), id(bus2.passengers), id(bus3.passengers)"
      ],
      "metadata": {
        "colab": {
          "base_uri": "https://localhost:8080/"
        },
        "id": "xL1xzVfCUhxf",
        "outputId": "db5c18c1-18da-4345-d5de-005b4672e8d1"
      },
      "execution_count": 29,
      "outputs": [
        {
          "output_type": "execute_result",
          "data": {
            "text/plain": [
              "(137376416772736, 137376416772736, 137376416259712)"
            ]
          },
          "metadata": {},
          "execution_count": 29
        }
      ]
    },
    {
      "cell_type": "code",
      "source": [
        "bus3.passengers"
      ],
      "metadata": {
        "colab": {
          "base_uri": "https://localhost:8080/"
        },
        "id": "Ykg-BrpdUzpN",
        "outputId": "d4b99cd8-9bab-4057-f7a1-fc07480663a1"
      },
      "execution_count": 30,
      "outputs": [
        {
          "output_type": "execute_result",
          "data": {
            "text/plain": [
              "['Alice', 'Bill', 'Claire', 'David']"
            ]
          },
          "metadata": {},
          "execution_count": 30
        }
      ]
    },
    {
      "cell_type": "code",
      "source": [
        "a = [10, 20]\n",
        "b = [a, 30]\n",
        "a.append(b)\n",
        "a"
      ],
      "metadata": {
        "colab": {
          "base_uri": "https://localhost:8080/"
        },
        "id": "aC_3ojLLU3nI",
        "outputId": "cb486a54-3885-4b09-f9aa-c2e7ce8828fb"
      },
      "execution_count": 31,
      "outputs": [
        {
          "output_type": "execute_result",
          "data": {
            "text/plain": [
              "[10, 20, [[...], 30]]"
            ]
          },
          "metadata": {},
          "execution_count": 31
        }
      ]
    },
    {
      "cell_type": "code",
      "source": [
        "from copy import deepcopy\n",
        "c = deepcopy(a)\n",
        "c"
      ],
      "metadata": {
        "colab": {
          "base_uri": "https://localhost:8080/"
        },
        "id": "tuNEO3-QVIep",
        "outputId": "df5a4dd5-ba75-49cc-ed79-713165d01fc1"
      },
      "execution_count": 32,
      "outputs": [
        {
          "output_type": "execute_result",
          "data": {
            "text/plain": [
              "[10, 20, [[...], 30]]"
            ]
          },
          "metadata": {},
          "execution_count": 32
        }
      ]
    },
    {
      "cell_type": "code",
      "source": [
        "def f(a, b):\n",
        "  a += b\n",
        "  return a\n",
        "\n",
        "x = 1\n",
        "y = 2\n",
        "f(x, y)"
      ],
      "metadata": {
        "colab": {
          "base_uri": "https://localhost:8080/"
        },
        "id": "8AYWJO1dVTRR",
        "outputId": "1017b92a-6d5a-4613-be0f-77c1e8db83c2"
      },
      "execution_count": 33,
      "outputs": [
        {
          "output_type": "execute_result",
          "data": {
            "text/plain": [
              "3"
            ]
          },
          "metadata": {},
          "execution_count": 33
        }
      ]
    },
    {
      "cell_type": "code",
      "source": [
        "x, y"
      ],
      "metadata": {
        "colab": {
          "base_uri": "https://localhost:8080/"
        },
        "id": "xrFvjcI3Xcx5",
        "outputId": "d79740b6-9217-4efd-eb49-3f04e9ea19dc"
      },
      "execution_count": 34,
      "outputs": [
        {
          "output_type": "execute_result",
          "data": {
            "text/plain": [
              "(1, 2)"
            ]
          },
          "metadata": {},
          "execution_count": 34
        }
      ]
    },
    {
      "cell_type": "code",
      "source": [
        "a = [1, 2]\n",
        "b = [3, 4]\n",
        "f(a, b)"
      ],
      "metadata": {
        "colab": {
          "base_uri": "https://localhost:8080/"
        },
        "id": "BJTSKnH8Xefy",
        "outputId": "e9de5b71-51ff-4926-a6f1-9ca0abf74c1e"
      },
      "execution_count": 35,
      "outputs": [
        {
          "output_type": "execute_result",
          "data": {
            "text/plain": [
              "[1, 2, 3, 4]"
            ]
          },
          "metadata": {},
          "execution_count": 35
        }
      ]
    },
    {
      "cell_type": "code",
      "source": [
        "a, b"
      ],
      "metadata": {
        "colab": {
          "base_uri": "https://localhost:8080/"
        },
        "id": "m9n1bEbXXuTX",
        "outputId": "9b6c65f6-9993-46ed-b23e-0cdf117e1eac"
      },
      "execution_count": 36,
      "outputs": [
        {
          "output_type": "execute_result",
          "data": {
            "text/plain": [
              "([1, 2, 3, 4], [3, 4])"
            ]
          },
          "metadata": {},
          "execution_count": 36
        }
      ]
    },
    {
      "cell_type": "code",
      "source": [
        "t = (10, 20)\n",
        "u = (30, 40)\n",
        "f(t, u)"
      ],
      "metadata": {
        "colab": {
          "base_uri": "https://localhost:8080/"
        },
        "id": "CByRsXI-XwJ0",
        "outputId": "3288f6b5-a89e-491f-c022-d0485b8b5151"
      },
      "execution_count": 37,
      "outputs": [
        {
          "output_type": "execute_result",
          "data": {
            "text/plain": [
              "(10, 20, 30, 40)"
            ]
          },
          "metadata": {},
          "execution_count": 37
        }
      ]
    },
    {
      "cell_type": "code",
      "source": [
        "t, u"
      ],
      "metadata": {
        "colab": {
          "base_uri": "https://localhost:8080/"
        },
        "id": "ZvSnRzkSX8v-",
        "outputId": "a022295f-e0ed-485a-c38c-97cff493de33"
      },
      "execution_count": 38,
      "outputs": [
        {
          "output_type": "execute_result",
          "data": {
            "text/plain": [
              "((10, 20), (30, 40))"
            ]
          },
          "metadata": {},
          "execution_count": 38
        }
      ]
    },
    {
      "cell_type": "code",
      "source": [
        "class HauntedBus:\n",
        "  \"\"\"A bus model haunted by ghost passengers\"\"\"\n",
        "\n",
        "  def __init__(self, passengers=[]):\n",
        "    self.passengers = passengers\n",
        "\n",
        "  def pick(self, name):\n",
        "    self.passengers.append(name)\n",
        "\n",
        "  def drop(self, name):\n",
        "    self.passengers.remove(name)"
      ],
      "metadata": {
        "id": "GsgddoLaX_oa"
      },
      "execution_count": 39,
      "outputs": []
    },
    {
      "cell_type": "code",
      "source": [
        "bus1 = HauntedBus(['Alice', 'Bill'])\n",
        "bus1.passengers"
      ],
      "metadata": {
        "colab": {
          "base_uri": "https://localhost:8080/"
        },
        "id": "Q9ot56O7ZjSD",
        "outputId": "a6ecdb22-fde7-4d16-8e76-aadd5e6859d8"
      },
      "execution_count": 40,
      "outputs": [
        {
          "output_type": "execute_result",
          "data": {
            "text/plain": [
              "['Alice', 'Bill']"
            ]
          },
          "metadata": {},
          "execution_count": 40
        }
      ]
    },
    {
      "cell_type": "code",
      "source": [
        "bus1.pick('Charlie')\n",
        "bus1.drop('Alice')\n",
        "bus1.passengers"
      ],
      "metadata": {
        "colab": {
          "base_uri": "https://localhost:8080/"
        },
        "id": "C2xDHQjNZ8yW",
        "outputId": "4de17131-57b7-4873-c679-efbc7fe9cbae"
      },
      "execution_count": 41,
      "outputs": [
        {
          "output_type": "execute_result",
          "data": {
            "text/plain": [
              "['Bill', 'Charlie']"
            ]
          },
          "metadata": {},
          "execution_count": 41
        }
      ]
    },
    {
      "cell_type": "code",
      "source": [
        "bus2 = HauntedBus()\n",
        "bus2.pick('Carrie')\n",
        "bus2.passengers"
      ],
      "metadata": {
        "colab": {
          "base_uri": "https://localhost:8080/"
        },
        "id": "GJB3hXjEaOAj",
        "outputId": "e9f903f5-d513-45ee-f731-34357810646e"
      },
      "execution_count": 42,
      "outputs": [
        {
          "output_type": "execute_result",
          "data": {
            "text/plain": [
              "['Carrie']"
            ]
          },
          "metadata": {},
          "execution_count": 42
        }
      ]
    },
    {
      "cell_type": "code",
      "source": [
        "bus3 = HauntedBus()\n",
        "bus3.passengers"
      ],
      "metadata": {
        "colab": {
          "base_uri": "https://localhost:8080/"
        },
        "id": "OaLgx2Y4asOL",
        "outputId": "984bd1cc-650f-4409-904e-2d0906bc2cfd"
      },
      "execution_count": 43,
      "outputs": [
        {
          "output_type": "execute_result",
          "data": {
            "text/plain": [
              "['Carrie']"
            ]
          },
          "metadata": {},
          "execution_count": 43
        }
      ]
    },
    {
      "cell_type": "code",
      "source": [
        "bus3.pick('Dave')\n",
        "bus2.passengers"
      ],
      "metadata": {
        "colab": {
          "base_uri": "https://localhost:8080/"
        },
        "id": "g5M7uxvGazBD",
        "outputId": "8df29c03-47df-4727-d9b1-aa060278b854"
      },
      "execution_count": 44,
      "outputs": [
        {
          "output_type": "execute_result",
          "data": {
            "text/plain": [
              "['Carrie', 'Dave']"
            ]
          },
          "metadata": {},
          "execution_count": 44
        }
      ]
    },
    {
      "cell_type": "code",
      "source": [
        "bus2.passengers is bus3.passengers"
      ],
      "metadata": {
        "colab": {
          "base_uri": "https://localhost:8080/"
        },
        "id": "PnshEq5Ya4qn",
        "outputId": "fdb86112-aa58-473e-d8b2-78df252fe44f"
      },
      "execution_count": 46,
      "outputs": [
        {
          "output_type": "execute_result",
          "data": {
            "text/plain": [
              "True"
            ]
          },
          "metadata": {},
          "execution_count": 46
        }
      ]
    },
    {
      "cell_type": "code",
      "source": [
        "bus1.passengers"
      ],
      "metadata": {
        "colab": {
          "base_uri": "https://localhost:8080/"
        },
        "id": "z6BkXLXZa9a2",
        "outputId": "0df70a65-cf3f-4baa-affe-b5d9901eef8d"
      },
      "execution_count": 47,
      "outputs": [
        {
          "output_type": "execute_result",
          "data": {
            "text/plain": [
              "['Bill', 'Charlie']"
            ]
          },
          "metadata": {},
          "execution_count": 47
        }
      ]
    },
    {
      "cell_type": "code",
      "source": [
        "dir(HauntedBus.__init__)"
      ],
      "metadata": {
        "colab": {
          "base_uri": "https://localhost:8080/"
        },
        "id": "SXlAUFoDbDwu",
        "outputId": "f6b0a9ba-c99c-42af-c39b-7301d7629f06"
      },
      "execution_count": 48,
      "outputs": [
        {
          "output_type": "execute_result",
          "data": {
            "text/plain": [
              "['__annotations__',\n",
              " '__builtins__',\n",
              " '__call__',\n",
              " '__class__',\n",
              " '__closure__',\n",
              " '__code__',\n",
              " '__defaults__',\n",
              " '__delattr__',\n",
              " '__dict__',\n",
              " '__dir__',\n",
              " '__doc__',\n",
              " '__eq__',\n",
              " '__format__',\n",
              " '__ge__',\n",
              " '__get__',\n",
              " '__getattribute__',\n",
              " '__globals__',\n",
              " '__gt__',\n",
              " '__hash__',\n",
              " '__init__',\n",
              " '__init_subclass__',\n",
              " '__kwdefaults__',\n",
              " '__le__',\n",
              " '__lt__',\n",
              " '__module__',\n",
              " '__name__',\n",
              " '__ne__',\n",
              " '__new__',\n",
              " '__qualname__',\n",
              " '__reduce__',\n",
              " '__reduce_ex__',\n",
              " '__repr__',\n",
              " '__setattr__',\n",
              " '__sizeof__',\n",
              " '__str__',\n",
              " '__subclasshook__']"
            ]
          },
          "metadata": {},
          "execution_count": 48
        }
      ]
    },
    {
      "cell_type": "code",
      "source": [
        "HauntedBus.__init__.__defaults__"
      ],
      "metadata": {
        "colab": {
          "base_uri": "https://localhost:8080/"
        },
        "id": "CtKbYf5fbK55",
        "outputId": "a05f368f-7cec-4976-a2fd-f9e8c705b2f2"
      },
      "execution_count": 49,
      "outputs": [
        {
          "output_type": "execute_result",
          "data": {
            "text/plain": [
              "(['Carrie', 'Dave'],)"
            ]
          },
          "metadata": {},
          "execution_count": 49
        }
      ]
    },
    {
      "cell_type": "code",
      "source": [
        "HauntedBus.__init__.__defaults__[0] is bus2.passengers"
      ],
      "metadata": {
        "colab": {
          "base_uri": "https://localhost:8080/"
        },
        "id": "oqlufGIGbSOY",
        "outputId": "ad755a4e-810a-4007-b661-047a3fa3f001"
      },
      "execution_count": 50,
      "outputs": [
        {
          "output_type": "execute_result",
          "data": {
            "text/plain": [
              "True"
            ]
          },
          "metadata": {},
          "execution_count": 50
        }
      ]
    },
    {
      "cell_type": "code",
      "source": [
        "basketball_team = ['Sue', 'Tina', 'Maya', 'Diana', 'Pat']\n",
        "bus = TwilightBus(basketball_team)\n",
        "bus.drop('Tina')\n",
        "bus.drop('Pat')\n",
        "basketball_team"
      ],
      "metadata": {
        "colab": {
          "base_uri": "https://localhost:8080/"
        },
        "id": "lVS6aZpwcXgt",
        "outputId": "e4a412c6-cea5-47b2-aa68-8f4dceab8570"
      },
      "execution_count": 54,
      "outputs": [
        {
          "output_type": "execute_result",
          "data": {
            "text/plain": [
              "['Sue', 'Maya', 'Diana']"
            ]
          },
          "metadata": {},
          "execution_count": 54
        }
      ]
    },
    {
      "cell_type": "code",
      "source": [
        "class TwilightBus:\n",
        "  \"\"\"A bus model that makes passengers vanish\"\"\"\n",
        "\n",
        "  def __init__(self, passengers = None):\n",
        "    if passengers is None:\n",
        "      self.passengers = []\n",
        "    else:\n",
        "      self.passengers = passengers\n",
        "\n",
        "  def pick(self, name):\n",
        "    self.passengers.append(name)\n",
        "\n",
        "  def drop(self, name):\n",
        "      self.passengers.remove(name)"
      ],
      "metadata": {
        "id": "8nlxjCwIct0c"
      },
      "execution_count": 53,
      "outputs": []
    },
    {
      "cell_type": "code",
      "source": [
        "def __init__(self, passengers=None):\n",
        "  if passengers is None:\n",
        "    self.passengers = []\n",
        "  else:\n",
        "    self.passengers = list(passengers)"
      ],
      "metadata": {
        "id": "yxza3h1gdahY"
      },
      "execution_count": 55,
      "outputs": []
    },
    {
      "cell_type": "code",
      "source": [
        "import weakref\n",
        "\n",
        "s1 = {1, 2, 3}\n",
        "s2 = s1\n",
        "def bye():\n",
        "  print('Gone with the wind..')\n",
        "\n",
        "ender = weakref.finalize(s1, bye)\n",
        "ender.alive"
      ],
      "metadata": {
        "colab": {
          "base_uri": "https://localhost:8080/"
        },
        "id": "QTIOZsI4d6rZ",
        "outputId": "c4ec83b3-8b4d-45b3-e0fb-f22ca74094ed"
      },
      "execution_count": 56,
      "outputs": [
        {
          "output_type": "execute_result",
          "data": {
            "text/plain": [
              "True"
            ]
          },
          "metadata": {},
          "execution_count": 56
        }
      ]
    },
    {
      "cell_type": "code",
      "source": [
        "del s1\n",
        "ender.alive"
      ],
      "metadata": {
        "colab": {
          "base_uri": "https://localhost:8080/"
        },
        "id": "xdvau7HxecLa",
        "outputId": "b41bbf67-c9df-4bd9-c623-76401897837e"
      },
      "execution_count": 57,
      "outputs": [
        {
          "output_type": "execute_result",
          "data": {
            "text/plain": [
              "True"
            ]
          },
          "metadata": {},
          "execution_count": 57
        }
      ]
    },
    {
      "cell_type": "code",
      "source": [
        "s2 = 'spam'"
      ],
      "metadata": {
        "id": "D0V1HuHPegwu"
      },
      "execution_count": 58,
      "outputs": []
    },
    {
      "cell_type": "code",
      "source": [
        "ender.alive"
      ],
      "metadata": {
        "colab": {
          "base_uri": "https://localhost:8080/"
        },
        "id": "php7glxTenIj",
        "outputId": "e25d2ee9-31c7-4db6-c741-ec656f1a99e5"
      },
      "execution_count": 60,
      "outputs": [
        {
          "output_type": "execute_result",
          "data": {
            "text/plain": [
              "False"
            ]
          },
          "metadata": {},
          "execution_count": 60
        }
      ]
    },
    {
      "cell_type": "code",
      "source": [],
      "metadata": {
        "id": "wgPWevOmerIV"
      },
      "execution_count": null,
      "outputs": []
    }
  ]
}