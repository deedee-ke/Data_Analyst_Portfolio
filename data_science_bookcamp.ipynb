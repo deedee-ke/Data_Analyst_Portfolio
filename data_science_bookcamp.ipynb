{
  "nbformat": 4,
  "nbformat_minor": 0,
  "metadata": {
    "colab": {
      "provenance": [],
      "authorship_tag": "ABX9TyOKAB4ocp3FOG+/iu9taU/D",
      "include_colab_link": true
    },
    "kernelspec": {
      "name": "python3",
      "display_name": "Python 3"
    },
    "language_info": {
      "name": "python"
    }
  },
  "cells": [
    {
      "cell_type": "markdown",
      "metadata": {
        "id": "view-in-github",
        "colab_type": "text"
      },
      "source": [
        "<a href=\"https://colab.research.google.com/github/deedee-ke/practice/blob/main/data_science_bookcamp.ipynb\" target=\"_parent\"><img src=\"https://colab.research.google.com/assets/colab-badge.svg\" alt=\"Open In Colab\"/></a>"
      ]
    },
    {
      "cell_type": "code",
      "execution_count": 11,
      "metadata": {
        "id": "E9Vc-aIVo1is"
      },
      "outputs": [],
      "source": [
        "sample_space = {'Heads' , 'Tails'}"
      ]
    },
    {
      "cell_type": "code",
      "source": [
        "probability_heads = 1 / len(sample_space)\n",
        "print(f'Probability of choosing heads is {probability_heads}')"
      ],
      "metadata": {
        "colab": {
          "base_uri": "https://localhost:8080/"
        },
        "id": "oYm0p9E8qpeP",
        "outputId": "61bf1f02-c3b4-4403-ff0d-0086976917f1"
      },
      "execution_count": 12,
      "outputs": [
        {
          "output_type": "stream",
          "name": "stdout",
          "text": [
            "Probability of choosing heads is 0.5\n"
          ]
        }
      ]
    },
    {
      "cell_type": "code",
      "source": [
        "def is_heads_or_tails(outcome): return outcome in {'Heads', 'Tails'}\n",
        "def is_neither(outcome): return not is_heads_or_tails(outcome)"
      ],
      "metadata": {
        "id": "xN8Y4b6u0SY1"
      },
      "execution_count": 13,
      "outputs": []
    },
    {
      "cell_type": "code",
      "source": [
        "def is_heads(outcome): return outcome == 'Heads'\n",
        "def is_tails(outcome): return outcome == 'Tails'"
      ],
      "metadata": {
        "id": "jXNMlPCa4wQM"
      },
      "execution_count": 14,
      "outputs": []
    },
    {
      "cell_type": "code",
      "source": [
        "def get_matching_event(event_condition, sample_space):\n",
        " return set([outcome for outcome in sample_space\n",
        " if event_condition(outcome)])"
      ],
      "metadata": {
        "id": "AqHvijnQ6Jpe"
      },
      "execution_count": 15,
      "outputs": []
    },
    {
      "cell_type": "code",
      "source": [
        "event_conditions = [is_heads_or_tails, is_heads, is_tails, is_neither]\n",
        "for event_condition in event_conditions:\n",
        " print(f\"Event Condition: {event_condition.__name__}\")\n",
        " event = get_matching_event(event_condition, sample_space)\n",
        " print(f'Event: {event}\\n')"
      ],
      "metadata": {
        "colab": {
          "base_uri": "https://localhost:8080/"
        },
        "id": "0Kv27d4O6oce",
        "outputId": "063082c2-5535-4859-9dd5-1b4dd984812a"
      },
      "execution_count": 16,
      "outputs": [
        {
          "output_type": "stream",
          "name": "stdout",
          "text": [
            "Event Condition: is_heads_or_tails\n",
            "Event: {'Heads', 'Tails'}\n",
            "\n",
            "Event Condition: is_heads\n",
            "Event: {'Heads'}\n",
            "\n",
            "Event Condition: is_tails\n",
            "Event: {'Tails'}\n",
            "\n",
            "Event Condition: is_neither\n",
            "Event: set()\n",
            "\n"
          ]
        }
      ]
    },
    {
      "cell_type": "code",
      "source": [
        "def compute_probability(event_condition, generic_sample_space):\n",
        " event = get_matching_event(event_condition, generic_sample_space)\n",
        " return len(event) / len(generic_sample_space)\n",
        "\n",
        "for event_condition in event_conditions:\n",
        " prob = compute_probability(event_condition, sample_space)\n",
        " name = event_condition.__name__\n",
        " print(f\"Probability of event arising from '{name}' is {prob}\")"
      ],
      "metadata": {
        "colab": {
          "base_uri": "https://localhost:8080/"
        },
        "id": "XbNpoOxXEQx3",
        "outputId": "6ebfb6b3-354a-4e82-9a50-de0a6cd2db0a"
      },
      "execution_count": 17,
      "outputs": [
        {
          "output_type": "stream",
          "name": "stdout",
          "text": [
            "Probability of event arising from 'is_heads_or_tails' is 1.0\n",
            "Probability of event arising from 'is_heads' is 0.5\n",
            "Probability of event arising from 'is_tails' is 0.5\n",
            "Probability of event arising from 'is_neither' is 0.0\n"
          ]
        }
      ]
    },
    {
      "cell_type": "code",
      "source": [
        "weighted_sample_space = {'Heads': 4, 'Tails': 1}"
      ],
      "metadata": {
        "id": "tWVbbXRRGe34"
      },
      "execution_count": 18,
      "outputs": []
    },
    {
      "cell_type": "code",
      "source": [
        "sample_space_size = sum(weighted_sample_space.values())\n",
        "assert sample_space_size == 5"
      ],
      "metadata": {
        "id": "Kak-ory_Qfjm"
      },
      "execution_count": 19,
      "outputs": []
    },
    {
      "cell_type": "code",
      "source": [],
      "metadata": {
        "id": "EyWzq9ToQghv"
      },
      "execution_count": null,
      "outputs": []
    }
  ]
}