{
  "nbformat": 4,
  "nbformat_minor": 0,
  "metadata": {
    "colab": {
      "provenance": [],
      "authorship_tag": "ABX9TyO/aAnKCc2sJtTlADDOZAtn",
      "include_colab_link": true
    },
    "kernelspec": {
      "name": "python3",
      "display_name": "Python 3"
    },
    "language_info": {
      "name": "python"
    }
  },
  "cells": [
    {
      "cell_type": "markdown",
      "metadata": {
        "id": "view-in-github",
        "colab_type": "text"
      },
      "source": [
        "<a href=\"https://colab.research.google.com/github/deedee-ke/practice/blob/main/Chapter_10.ipynb\" target=\"_parent\"><img src=\"https://colab.research.google.com/assets/colab-badge.svg\" alt=\"Open In Colab\"/></a>"
      ]
    },
    {
      "cell_type": "code",
      "execution_count": 25,
      "metadata": {
        "id": "W5iSIfK3xLjE"
      },
      "outputs": [],
      "source": [
        "from array import array\n",
        "import reprlib\n",
        "import math\n",
        "\n",
        "class Vector:\n",
        "  typecode = 'd'\n",
        "\n",
        "  def __init__(self, components):\n",
        "    self._components = array(self.typecode, components)\n",
        "\n",
        "  def __iter__(self):\n",
        "    return iter(self._components)\n",
        "\n",
        "  def __repr__(self):\n",
        "    components = reprlib.repr(self._components)\n",
        "    components = components[components.find('['):-1]\n",
        "    return 'Vector({})'.format(components)\n",
        "\n",
        "  def __str__(self):\n",
        "    return str(tuple(self))\n",
        "\n",
        "  def __bytes(self):\n",
        "    return(bytes([ord(self.typecode)]) +\n",
        "           bytes(self._components))\n",
        "\n",
        "  def __eq__(self, other):\n",
        "    return tuple(self) == tuple(other)\n",
        "\n",
        "  def __abs__(self):\n",
        "    return math.sqrt(sum(x * x for x in self))\n",
        "\n",
        "  def __bool__(self):\n",
        "    return bool(abs(self))\n",
        "\n",
        "  @classmethod\n",
        "  def frombytes(cls, octets):\n",
        "    typecode = chr(octets[0])\n",
        "    memv = memoryviews(octets[1:]).cast(typecode)\n",
        "    return cls(memv)\n",
        "\n",
        "  def __len__(self):\n",
        "    return len(self._components)\n",
        "\n",
        "  #def __getitem__(self, index):\n",
        "    #return self._components[index]\n",
        "\n",
        "  def __getitem__(self, index):\n",
        "    cls = type(self)\n",
        "    if isinstance(index, slice):\n",
        "      return cls(self._components[index])\n",
        "    elif isinstance(index, numbers.Integral):\n",
        "      return self._components[index]\n",
        "    else:\n",
        "      msg = '{cls.__name__} indices must be integers'\n",
        "      raise TypeError(msg.format(cls=cls))\n"
      ]
    },
    {
      "cell_type": "code",
      "source": [
        "Vector([3.1, 4.2])"
      ],
      "metadata": {
        "colab": {
          "base_uri": "https://localhost:8080/"
        },
        "id": "-UCTE83xzPOB",
        "outputId": "3aad332b-abe3-4d8f-b29f-5d0789fede2b"
      },
      "execution_count": 2,
      "outputs": [
        {
          "output_type": "execute_result",
          "data": {
            "text/plain": [
              "Vector([3.1, 4.2])"
            ]
          },
          "metadata": {},
          "execution_count": 2
        }
      ]
    },
    {
      "cell_type": "code",
      "source": [
        "Vector((3, 4, 5))"
      ],
      "metadata": {
        "colab": {
          "base_uri": "https://localhost:8080/"
        },
        "id": "04BBl0uXzXPg",
        "outputId": "c527b249-8444-429e-fc37-7eb23bd63b3d"
      },
      "execution_count": 3,
      "outputs": [
        {
          "output_type": "execute_result",
          "data": {
            "text/plain": [
              "Vector([3.0, 4.0, 5.0])"
            ]
          },
          "metadata": {},
          "execution_count": 3
        }
      ]
    },
    {
      "cell_type": "code",
      "source": [
        "Vector(range(10))"
      ],
      "metadata": {
        "colab": {
          "base_uri": "https://localhost:8080/"
        },
        "id": "oDRdQN12zbcM",
        "outputId": "7b67da21-c7b8-48bf-d55c-19504c2b5191"
      },
      "execution_count": 4,
      "outputs": [
        {
          "output_type": "execute_result",
          "data": {
            "text/plain": [
              "Vector([0.0, 1.0, 2.0, 3.0, 4.0, ...])"
            ]
          },
          "metadata": {},
          "execution_count": 4
        }
      ]
    },
    {
      "cell_type": "code",
      "source": [
        "import collections\n",
        "\n",
        "Card = collections.namedtuple('Card', ['rank', 'suit'])\n",
        "\n",
        "class FrenchDeck:\n",
        "  ranks = [str(n) for n in range(2, 11)] + list('JQKA')\n",
        "  suits = 'spades diamonds clubs hearts'.split()\n",
        "\n",
        "  def __init__(self):\n",
        "    self_cards = [Card(rank, suit) for suit in self.suits\n",
        "                                   for rank in self.ranks]\n",
        "\n",
        "  def __len__(self):\n",
        "    return len(self._cards)\n",
        "\n",
        "  def __getitem__(self, position):\n",
        "    return self._cards[position]"
      ],
      "metadata": {
        "id": "AguymUPrzeJn"
      },
      "execution_count": 5,
      "outputs": []
    },
    {
      "cell_type": "code",
      "source": [
        "class Vector:\n",
        "\n",
        "  def __len__(self):\n",
        "    return len(self._components)\n",
        "\n",
        "  def __getitem__(self, index):\n",
        "    return self._components[index]"
      ],
      "metadata": {
        "id": "n-i2jzAi3HuM"
      },
      "execution_count": 8,
      "outputs": []
    },
    {
      "cell_type": "code",
      "source": [
        "v1 = Vector([3, 4, 5])\n",
        "len(v1)"
      ],
      "metadata": {
        "colab": {
          "base_uri": "https://localhost:8080/"
        },
        "id": "2e0seup32v3d",
        "outputId": "7c9f734c-2ffb-44e9-fdfd-9de4d230131b"
      },
      "execution_count": 13,
      "outputs": [
        {
          "output_type": "execute_result",
          "data": {
            "text/plain": [
              "3"
            ]
          },
          "metadata": {},
          "execution_count": 13
        }
      ]
    },
    {
      "cell_type": "code",
      "source": [
        "v1[0], v1[-1]"
      ],
      "metadata": {
        "colab": {
          "base_uri": "https://localhost:8080/"
        },
        "id": "mgL7zKeI3E4z",
        "outputId": "2a9d529e-3a73-4115-9c2a-36fc98924563"
      },
      "execution_count": 14,
      "outputs": [
        {
          "output_type": "execute_result",
          "data": {
            "text/plain": [
              "(3.0, 5.0)"
            ]
          },
          "metadata": {},
          "execution_count": 14
        }
      ]
    },
    {
      "cell_type": "code",
      "source": [
        "v7 = Vector(range(7))\n",
        "v7[1:4]"
      ],
      "metadata": {
        "colab": {
          "base_uri": "https://localhost:8080/"
        },
        "id": "bZwEdNlz4kJ5",
        "outputId": "a0532e7f-4831-4016-c7a9-3dc9826f56a7"
      },
      "execution_count": 15,
      "outputs": [
        {
          "output_type": "execute_result",
          "data": {
            "text/plain": [
              "array('d', [1.0, 2.0, 3.0])"
            ]
          },
          "metadata": {},
          "execution_count": 15
        }
      ]
    },
    {
      "cell_type": "code",
      "source": [
        "class MySeq:\n",
        "  def __getitem__(self, index):\n",
        "    return index\n",
        "\n",
        "s = MySeq()\n",
        "s[1]"
      ],
      "metadata": {
        "colab": {
          "base_uri": "https://localhost:8080/"
        },
        "id": "92kpGxXF4qQk",
        "outputId": "124cd96c-5e8d-4535-bc48-a393ceceb771"
      },
      "execution_count": 16,
      "outputs": [
        {
          "output_type": "execute_result",
          "data": {
            "text/plain": [
              "1"
            ]
          },
          "metadata": {},
          "execution_count": 16
        }
      ]
    },
    {
      "cell_type": "code",
      "source": [
        "s[1:4]"
      ],
      "metadata": {
        "colab": {
          "base_uri": "https://localhost:8080/"
        },
        "id": "Ykjc-WlM48Nk",
        "outputId": "a5d37d3d-2d3d-45c0-f054-42f8e543fee8"
      },
      "execution_count": 17,
      "outputs": [
        {
          "output_type": "execute_result",
          "data": {
            "text/plain": [
              "slice(1, 4, None)"
            ]
          },
          "metadata": {},
          "execution_count": 17
        }
      ]
    },
    {
      "cell_type": "code",
      "source": [
        "s[1:4:2]"
      ],
      "metadata": {
        "colab": {
          "base_uri": "https://localhost:8080/"
        },
        "id": "GcUh2VxY4-ji",
        "outputId": "96ab2ade-ebbc-497e-c384-001e976709d6"
      },
      "execution_count": 18,
      "outputs": [
        {
          "output_type": "execute_result",
          "data": {
            "text/plain": [
              "slice(1, 4, 2)"
            ]
          },
          "metadata": {},
          "execution_count": 18
        }
      ]
    },
    {
      "cell_type": "code",
      "source": [
        "s[1:4:2, 9]"
      ],
      "metadata": {
        "colab": {
          "base_uri": "https://localhost:8080/"
        },
        "id": "uZzGCkQJ5BnD",
        "outputId": "8f99e4fe-90bc-41b8-aba0-f8a854b18e88"
      },
      "execution_count": 19,
      "outputs": [
        {
          "output_type": "execute_result",
          "data": {
            "text/plain": [
              "(slice(1, 4, 2), 9)"
            ]
          },
          "metadata": {},
          "execution_count": 19
        }
      ]
    },
    {
      "cell_type": "code",
      "source": [
        "s[1:4:2, 7:9]"
      ],
      "metadata": {
        "colab": {
          "base_uri": "https://localhost:8080/"
        },
        "id": "IydVLLN05H_5",
        "outputId": "a3887089-cb1b-4d15-f975-aacc3b17b08f"
      },
      "execution_count": 20,
      "outputs": [
        {
          "output_type": "execute_result",
          "data": {
            "text/plain": [
              "(slice(1, 4, 2), slice(7, 9, None))"
            ]
          },
          "metadata": {},
          "execution_count": 20
        }
      ]
    },
    {
      "cell_type": "code",
      "source": [
        "slice"
      ],
      "metadata": {
        "colab": {
          "base_uri": "https://localhost:8080/"
        },
        "id": "x4E59JGA5Nww",
        "outputId": "cf854eb0-4c50-4869-87b7-9692758dec94"
      },
      "execution_count": 21,
      "outputs": [
        {
          "output_type": "execute_result",
          "data": {
            "text/plain": [
              "slice"
            ]
          },
          "metadata": {},
          "execution_count": 21
        }
      ]
    },
    {
      "cell_type": "code",
      "source": [
        "dir(slice)"
      ],
      "metadata": {
        "colab": {
          "base_uri": "https://localhost:8080/"
        },
        "id": "PeCsGUI65QNW",
        "outputId": "12c86567-4b4d-49a8-c752-d7be419c2f24"
      },
      "execution_count": 22,
      "outputs": [
        {
          "output_type": "execute_result",
          "data": {
            "text/plain": [
              "['__class__',\n",
              " '__delattr__',\n",
              " '__dir__',\n",
              " '__doc__',\n",
              " '__eq__',\n",
              " '__format__',\n",
              " '__ge__',\n",
              " '__getattribute__',\n",
              " '__gt__',\n",
              " '__hash__',\n",
              " '__init__',\n",
              " '__init_subclass__',\n",
              " '__le__',\n",
              " '__lt__',\n",
              " '__ne__',\n",
              " '__new__',\n",
              " '__reduce__',\n",
              " '__reduce_ex__',\n",
              " '__repr__',\n",
              " '__setattr__',\n",
              " '__sizeof__',\n",
              " '__str__',\n",
              " '__subclasshook__',\n",
              " 'indices',\n",
              " 'start',\n",
              " 'step',\n",
              " 'stop']"
            ]
          },
          "metadata": {},
          "execution_count": 22
        }
      ]
    },
    {
      "cell_type": "code",
      "source": [
        "slice(None, 10, 2).indices(5)"
      ],
      "metadata": {
        "colab": {
          "base_uri": "https://localhost:8080/"
        },
        "id": "nvGA1vgY5SKs",
        "outputId": "cf245a2f-a128-45cb-868b-97a0113c5f82"
      },
      "execution_count": 23,
      "outputs": [
        {
          "output_type": "execute_result",
          "data": {
            "text/plain": [
              "(0, 5, 2)"
            ]
          },
          "metadata": {},
          "execution_count": 23
        }
      ]
    },
    {
      "cell_type": "code",
      "source": [
        "slice(-3, None, None).indices(5)"
      ],
      "metadata": {
        "colab": {
          "base_uri": "https://localhost:8080/"
        },
        "id": "wsGX8RLI5b7x",
        "outputId": "27c8c78a-c290-418a-edfb-ec4be1094d30"
      },
      "execution_count": 24,
      "outputs": [
        {
          "output_type": "execute_result",
          "data": {
            "text/plain": [
              "(2, 5, 1)"
            ]
          },
          "metadata": {},
          "execution_count": 24
        }
      ]
    },
    {
      "cell_type": "code",
      "source": [],
      "metadata": {
        "id": "clXRiMGi5kLV"
      },
      "execution_count": null,
      "outputs": []
    }
  ]
}