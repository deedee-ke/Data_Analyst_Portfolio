{
  "cells": [
    {
      "cell_type": "markdown",
      "metadata": {
        "id": "rc6vicTowhpo"
      },
      "source": [
        "# Welcome"
      ]
    },
    {
      "cell_type": "markdown",
      "metadata": {
        "id": "QOxUWGDVwhp4"
      },
      "source": [
        "<img src=\"https://github.com/jigsawlabs-student/code-intro/blob/master/ralph_wave.gif?raw=1\" width=\"50%\">"
      ]
    },
    {
      "cell_type": "markdown",
      "metadata": {
        "id": "B_EpMT2fwhp5"
      },
      "source": [
        "> Don't see the picture above?  Click `Sign In` on the top right to sign in with Google."
      ]
    },
    {
      "cell_type": "markdown",
      "metadata": {
        "id": "kdo5c770whp9"
      },
      "source": [
        "## We have some questions"
      ]
    },
    {
      "cell_type": "markdown",
      "metadata": {
        "id": "yCd6pcB-whp-"
      },
      "source": [
        "Let's start with the first two questions everyone has when learning to code.\n",
        "\n",
        "**1. Can I do it?**\n",
        "\n",
        "**2. Is it even worth it?**"
      ]
    },
    {
      "cell_type": "markdown",
      "metadata": {
        "id": "qEDsa8tswhqA"
      },
      "source": [
        "### Can you do it?"
      ]
    },
    {
      "cell_type": "markdown",
      "metadata": {
        "id": "-zs2yRXDwhqB"
      },
      "source": [
        "Yes.  Coding isn't so bad.  Some may even say it's fun."
      ]
    },
    {
      "cell_type": "markdown",
      "metadata": {
        "id": "VjmUmcWZwhqC"
      },
      "source": [
        "See the gray cell below?  There are two ways we can execute the code.\n",
        "\n",
        "The first way is by clicking the gray `play` button that you see if you hover over the square brackets in the  leftside of the cell.\n",
        "\n",
        "This is the second.  Click inside of the gray box below.  Then hold down the `shift` key with your left hand, and `press return` with the other hand **while still holding down that shift key**."
      ]
    },
    {
      "cell_type": "markdown",
      "metadata": {
        "id": "l6ULRDFQwhqE"
      },
      "source": [
        "> **Note:** You will get a **warning** from Google, the first time you execute a cell of code.  Click **Run Anyway**."
      ]
    },
    {
      "cell_type": "code",
      "source": [],
      "metadata": {
        "id": "wsu8TgQ3wwWt"
      },
      "execution_count": null,
      "outputs": []
    },
    {
      "cell_type": "code",
      "execution_count": 1,
      "metadata": {
        "id": "WjcnRrHnwhqF",
        "outputId": "dc01c0d5-e16c-4aab-d16f-994e98d4c68a",
        "colab": {
          "base_uri": "https://localhost:8080/"
        }
      },
      "outputs": [
        {
          "output_type": "execute_result",
          "data": {
            "text/plain": [
              "13"
            ]
          },
          "metadata": {},
          "execution_count": 1
        }
      ],
      "source": [
        "3 + 10"
      ]
    },
    {
      "cell_type": "markdown",
      "metadata": {
        "id": "mdbS1EMowhqH"
      },
      "source": [
        "> Click on the cell above, and then press `shift + return`."
      ]
    },
    {
      "cell_type": "markdown",
      "metadata": {
        "id": "Fw24qg3pwhqH"
      },
      "source": [
        "You can also watch the video below, to see how a pro does it."
      ]
    },
    {
      "cell_type": "markdown",
      "metadata": {
        "id": "YEn5Tm72whqI"
      },
      "source": [
        "<img src=\"https://github.com/jigsawlabs/curriculum-assets/blob/master/introduction-to-apis/7-just-a-bit-of-python/jupyter-python.gif?raw=true\" width=\"40%\">"
      ]
    },
    {
      "cell_type": "markdown",
      "metadata": {
        "id": "zVzLKLLOwhqI"
      },
      "source": [
        "**Ok, now let's do something a bit more interesting.**"
      ]
    },
    {
      "cell_type": "markdown",
      "metadata": {
        "id": "Rdd-D6UqwhqI"
      },
      "source": [
        "Let's say that we are in the music business, and we we want to see where people travel to after a music concert.  Learning this could tell us more about our audience, like where they live, or like to hang out.  We decide to look at New York City's taxi trip data, which is available <a href=\"https://data.cityofnewyork.us/resource/biws-g3hs.json?pulocationid=186\" target=\"_blank\"> here</a>, and specify taxi trips near Madison Square Garden with the [`pulocationid` (pickup location id)](https://data.cityofnewyork.us/Transportation/NYC-Taxi-Zones/d3c5-ddgc)."
      ]
    },
    {
      "cell_type": "markdown",
      "metadata": {
        "id": "ycj3OK6TwhqJ"
      },
      "source": [
        "But it helps to know a bit of programming to more easily explore it."
      ]
    },
    {
      "cell_type": "markdown",
      "metadata": {
        "id": "eNi_hRGKwhqJ"
      },
      "source": [
        "> Press `shift + return` on the cell below to collect this data."
      ]
    },
    {
      "cell_type": "code",
      "execution_count": 2,
      "metadata": {
        "id": "gcwbfJCzwhqK",
        "outputId": "4d31ae59-433c-4032-d90f-84b15e5a6b57",
        "colab": {
          "base_uri": "https://localhost:8080/",
          "height": 166
        }
      },
      "outputs": [
        {
          "output_type": "execute_result",
          "data": {
            "text/plain": [
              "   vendorid     tpep_pickup_datetime    tpep_dropoff_datetime  \\\n",
              "0         1  2017-01-09T11:32:27.000  2017-01-09T11:36:01.000   \n",
              "1         2  2017-01-01T00:00:02.000  2017-01-01T00:39:22.000   \n",
              "\n",
              "   passenger_count  trip_distance  ratecodeid store_and_fwd_flag  \\\n",
              "0                1           0.90           1                  N   \n",
              "1                4           7.75           1                  N   \n",
              "\n",
              "   pulocationid  dolocationid  payment_type  fare_amount  extra  mta_tax  \\\n",
              "0           186           234             1          5.0    0.0      0.5   \n",
              "1           186            36             1         22.0    0.5      0.5   \n",
              "\n",
              "   tip_amount  tolls_amount  improvement_surcharge  total_amount  \n",
              "0        1.45           0.0                    0.3          7.25  \n",
              "1        4.66           0.0                    0.3         27.96  "
            ],
            "text/html": [
              "\n",
              "  <div id=\"df-db71db09-2d60-4f67-8c1f-726294deb431\" class=\"colab-df-container\">\n",
              "    <div>\n",
              "<style scoped>\n",
              "    .dataframe tbody tr th:only-of-type {\n",
              "        vertical-align: middle;\n",
              "    }\n",
              "\n",
              "    .dataframe tbody tr th {\n",
              "        vertical-align: top;\n",
              "    }\n",
              "\n",
              "    .dataframe thead th {\n",
              "        text-align: right;\n",
              "    }\n",
              "</style>\n",
              "<table border=\"1\" class=\"dataframe\">\n",
              "  <thead>\n",
              "    <tr style=\"text-align: right;\">\n",
              "      <th></th>\n",
              "      <th>vendorid</th>\n",
              "      <th>tpep_pickup_datetime</th>\n",
              "      <th>tpep_dropoff_datetime</th>\n",
              "      <th>passenger_count</th>\n",
              "      <th>trip_distance</th>\n",
              "      <th>ratecodeid</th>\n",
              "      <th>store_and_fwd_flag</th>\n",
              "      <th>pulocationid</th>\n",
              "      <th>dolocationid</th>\n",
              "      <th>payment_type</th>\n",
              "      <th>fare_amount</th>\n",
              "      <th>extra</th>\n",
              "      <th>mta_tax</th>\n",
              "      <th>tip_amount</th>\n",
              "      <th>tolls_amount</th>\n",
              "      <th>improvement_surcharge</th>\n",
              "      <th>total_amount</th>\n",
              "    </tr>\n",
              "  </thead>\n",
              "  <tbody>\n",
              "    <tr>\n",
              "      <th>0</th>\n",
              "      <td>1</td>\n",
              "      <td>2017-01-09T11:32:27.000</td>\n",
              "      <td>2017-01-09T11:36:01.000</td>\n",
              "      <td>1</td>\n",
              "      <td>0.90</td>\n",
              "      <td>1</td>\n",
              "      <td>N</td>\n",
              "      <td>186</td>\n",
              "      <td>234</td>\n",
              "      <td>1</td>\n",
              "      <td>5.0</td>\n",
              "      <td>0.0</td>\n",
              "      <td>0.5</td>\n",
              "      <td>1.45</td>\n",
              "      <td>0.0</td>\n",
              "      <td>0.3</td>\n",
              "      <td>7.25</td>\n",
              "    </tr>\n",
              "    <tr>\n",
              "      <th>1</th>\n",
              "      <td>2</td>\n",
              "      <td>2017-01-01T00:00:02.000</td>\n",
              "      <td>2017-01-01T00:39:22.000</td>\n",
              "      <td>4</td>\n",
              "      <td>7.75</td>\n",
              "      <td>1</td>\n",
              "      <td>N</td>\n",
              "      <td>186</td>\n",
              "      <td>36</td>\n",
              "      <td>1</td>\n",
              "      <td>22.0</td>\n",
              "      <td>0.5</td>\n",
              "      <td>0.5</td>\n",
              "      <td>4.66</td>\n",
              "      <td>0.0</td>\n",
              "      <td>0.3</td>\n",
              "      <td>27.96</td>\n",
              "    </tr>\n",
              "  </tbody>\n",
              "</table>\n",
              "</div>\n",
              "    <div class=\"colab-df-buttons\">\n",
              "\n",
              "  <div class=\"colab-df-container\">\n",
              "    <button class=\"colab-df-convert\" onclick=\"convertToInteractive('df-db71db09-2d60-4f67-8c1f-726294deb431')\"\n",
              "            title=\"Convert this dataframe to an interactive table.\"\n",
              "            style=\"display:none;\">\n",
              "\n",
              "  <svg xmlns=\"http://www.w3.org/2000/svg\" height=\"24px\" viewBox=\"0 -960 960 960\">\n",
              "    <path d=\"M120-120v-720h720v720H120Zm60-500h600v-160H180v160Zm220 220h160v-160H400v160Zm0 220h160v-160H400v160ZM180-400h160v-160H180v160Zm440 0h160v-160H620v160ZM180-180h160v-160H180v160Zm440 0h160v-160H620v160Z\"/>\n",
              "  </svg>\n",
              "    </button>\n",
              "\n",
              "  <style>\n",
              "    .colab-df-container {\n",
              "      display:flex;\n",
              "      gap: 12px;\n",
              "    }\n",
              "\n",
              "    .colab-df-convert {\n",
              "      background-color: #E8F0FE;\n",
              "      border: none;\n",
              "      border-radius: 50%;\n",
              "      cursor: pointer;\n",
              "      display: none;\n",
              "      fill: #1967D2;\n",
              "      height: 32px;\n",
              "      padding: 0 0 0 0;\n",
              "      width: 32px;\n",
              "    }\n",
              "\n",
              "    .colab-df-convert:hover {\n",
              "      background-color: #E2EBFA;\n",
              "      box-shadow: 0px 1px 2px rgba(60, 64, 67, 0.3), 0px 1px 3px 1px rgba(60, 64, 67, 0.15);\n",
              "      fill: #174EA6;\n",
              "    }\n",
              "\n",
              "    .colab-df-buttons div {\n",
              "      margin-bottom: 4px;\n",
              "    }\n",
              "\n",
              "    [theme=dark] .colab-df-convert {\n",
              "      background-color: #3B4455;\n",
              "      fill: #D2E3FC;\n",
              "    }\n",
              "\n",
              "    [theme=dark] .colab-df-convert:hover {\n",
              "      background-color: #434B5C;\n",
              "      box-shadow: 0px 1px 3px 1px rgba(0, 0, 0, 0.15);\n",
              "      filter: drop-shadow(0px 1px 2px rgba(0, 0, 0, 0.3));\n",
              "      fill: #FFFFFF;\n",
              "    }\n",
              "  </style>\n",
              "\n",
              "    <script>\n",
              "      const buttonEl =\n",
              "        document.querySelector('#df-db71db09-2d60-4f67-8c1f-726294deb431 button.colab-df-convert');\n",
              "      buttonEl.style.display =\n",
              "        google.colab.kernel.accessAllowed ? 'block' : 'none';\n",
              "\n",
              "      async function convertToInteractive(key) {\n",
              "        const element = document.querySelector('#df-db71db09-2d60-4f67-8c1f-726294deb431');\n",
              "        const dataTable =\n",
              "          await google.colab.kernel.invokeFunction('convertToInteractive',\n",
              "                                                    [key], {});\n",
              "        if (!dataTable) return;\n",
              "\n",
              "        const docLinkHtml = 'Like what you see? Visit the ' +\n",
              "          '<a target=\"_blank\" href=https://colab.research.google.com/notebooks/data_table.ipynb>data table notebook</a>'\n",
              "          + ' to learn more about interactive tables.';\n",
              "        element.innerHTML = '';\n",
              "        dataTable['output_type'] = 'display_data';\n",
              "        await google.colab.output.renderOutput(dataTable, element);\n",
              "        const docLink = document.createElement('div');\n",
              "        docLink.innerHTML = docLinkHtml;\n",
              "        element.appendChild(docLink);\n",
              "      }\n",
              "    </script>\n",
              "  </div>\n",
              "\n",
              "\n",
              "<div id=\"df-d1821601-6e97-4b3e-b324-97acba564ba0\">\n",
              "  <button class=\"colab-df-quickchart\" onclick=\"quickchart('df-d1821601-6e97-4b3e-b324-97acba564ba0')\"\n",
              "            title=\"Suggest charts\"\n",
              "            style=\"display:none;\">\n",
              "\n",
              "<svg xmlns=\"http://www.w3.org/2000/svg\" height=\"24px\"viewBox=\"0 0 24 24\"\n",
              "     width=\"24px\">\n",
              "    <g>\n",
              "        <path d=\"M19 3H5c-1.1 0-2 .9-2 2v14c0 1.1.9 2 2 2h14c1.1 0 2-.9 2-2V5c0-1.1-.9-2-2-2zM9 17H7v-7h2v7zm4 0h-2V7h2v10zm4 0h-2v-4h2v4z\"/>\n",
              "    </g>\n",
              "</svg>\n",
              "  </button>\n",
              "\n",
              "<style>\n",
              "  .colab-df-quickchart {\n",
              "      --bg-color: #E8F0FE;\n",
              "      --fill-color: #1967D2;\n",
              "      --hover-bg-color: #E2EBFA;\n",
              "      --hover-fill-color: #174EA6;\n",
              "      --disabled-fill-color: #AAA;\n",
              "      --disabled-bg-color: #DDD;\n",
              "  }\n",
              "\n",
              "  [theme=dark] .colab-df-quickchart {\n",
              "      --bg-color: #3B4455;\n",
              "      --fill-color: #D2E3FC;\n",
              "      --hover-bg-color: #434B5C;\n",
              "      --hover-fill-color: #FFFFFF;\n",
              "      --disabled-bg-color: #3B4455;\n",
              "      --disabled-fill-color: #666;\n",
              "  }\n",
              "\n",
              "  .colab-df-quickchart {\n",
              "    background-color: var(--bg-color);\n",
              "    border: none;\n",
              "    border-radius: 50%;\n",
              "    cursor: pointer;\n",
              "    display: none;\n",
              "    fill: var(--fill-color);\n",
              "    height: 32px;\n",
              "    padding: 0;\n",
              "    width: 32px;\n",
              "  }\n",
              "\n",
              "  .colab-df-quickchart:hover {\n",
              "    background-color: var(--hover-bg-color);\n",
              "    box-shadow: 0 1px 2px rgba(60, 64, 67, 0.3), 0 1px 3px 1px rgba(60, 64, 67, 0.15);\n",
              "    fill: var(--button-hover-fill-color);\n",
              "  }\n",
              "\n",
              "  .colab-df-quickchart-complete:disabled,\n",
              "  .colab-df-quickchart-complete:disabled:hover {\n",
              "    background-color: var(--disabled-bg-color);\n",
              "    fill: var(--disabled-fill-color);\n",
              "    box-shadow: none;\n",
              "  }\n",
              "\n",
              "  .colab-df-spinner {\n",
              "    border: 2px solid var(--fill-color);\n",
              "    border-color: transparent;\n",
              "    border-bottom-color: var(--fill-color);\n",
              "    animation:\n",
              "      spin 1s steps(1) infinite;\n",
              "  }\n",
              "\n",
              "  @keyframes spin {\n",
              "    0% {\n",
              "      border-color: transparent;\n",
              "      border-bottom-color: var(--fill-color);\n",
              "      border-left-color: var(--fill-color);\n",
              "    }\n",
              "    20% {\n",
              "      border-color: transparent;\n",
              "      border-left-color: var(--fill-color);\n",
              "      border-top-color: var(--fill-color);\n",
              "    }\n",
              "    30% {\n",
              "      border-color: transparent;\n",
              "      border-left-color: var(--fill-color);\n",
              "      border-top-color: var(--fill-color);\n",
              "      border-right-color: var(--fill-color);\n",
              "    }\n",
              "    40% {\n",
              "      border-color: transparent;\n",
              "      border-right-color: var(--fill-color);\n",
              "      border-top-color: var(--fill-color);\n",
              "    }\n",
              "    60% {\n",
              "      border-color: transparent;\n",
              "      border-right-color: var(--fill-color);\n",
              "    }\n",
              "    80% {\n",
              "      border-color: transparent;\n",
              "      border-right-color: var(--fill-color);\n",
              "      border-bottom-color: var(--fill-color);\n",
              "    }\n",
              "    90% {\n",
              "      border-color: transparent;\n",
              "      border-bottom-color: var(--fill-color);\n",
              "    }\n",
              "  }\n",
              "</style>\n",
              "\n",
              "  <script>\n",
              "    async function quickchart(key) {\n",
              "      const quickchartButtonEl =\n",
              "        document.querySelector('#' + key + ' button');\n",
              "      quickchartButtonEl.disabled = true;  // To prevent multiple clicks.\n",
              "      quickchartButtonEl.classList.add('colab-df-spinner');\n",
              "      try {\n",
              "        const charts = await google.colab.kernel.invokeFunction(\n",
              "            'suggestCharts', [key], {});\n",
              "      } catch (error) {\n",
              "        console.error('Error during call to suggestCharts:', error);\n",
              "      }\n",
              "      quickchartButtonEl.classList.remove('colab-df-spinner');\n",
              "      quickchartButtonEl.classList.add('colab-df-quickchart-complete');\n",
              "    }\n",
              "    (() => {\n",
              "      let quickchartButtonEl =\n",
              "        document.querySelector('#df-d1821601-6e97-4b3e-b324-97acba564ba0 button');\n",
              "      quickchartButtonEl.style.display =\n",
              "        google.colab.kernel.accessAllowed ? 'block' : 'none';\n",
              "    })();\n",
              "  </script>\n",
              "</div>\n",
              "\n",
              "    </div>\n",
              "  </div>\n"
            ],
            "application/vnd.google.colaboratory.intrinsic+json": {
              "type": "dataframe",
              "summary": "{\n  \"name\": \"df[:2]\",\n  \"rows\": 2,\n  \"fields\": [\n    {\n      \"column\": \"vendorid\",\n      \"properties\": {\n        \"dtype\": \"number\",\n        \"std\": 0,\n        \"min\": 1,\n        \"max\": 2,\n        \"num_unique_values\": 2,\n        \"samples\": [\n          2,\n          1\n        ],\n        \"semantic_type\": \"\",\n        \"description\": \"\"\n      }\n    },\n    {\n      \"column\": \"tpep_pickup_datetime\",\n      \"properties\": {\n        \"dtype\": \"object\",\n        \"num_unique_values\": 2,\n        \"samples\": [\n          \"2017-01-01T00:00:02.000\",\n          \"2017-01-09T11:32:27.000\"\n        ],\n        \"semantic_type\": \"\",\n        \"description\": \"\"\n      }\n    },\n    {\n      \"column\": \"tpep_dropoff_datetime\",\n      \"properties\": {\n        \"dtype\": \"object\",\n        \"num_unique_values\": 2,\n        \"samples\": [\n          \"2017-01-01T00:39:22.000\",\n          \"2017-01-09T11:36:01.000\"\n        ],\n        \"semantic_type\": \"\",\n        \"description\": \"\"\n      }\n    },\n    {\n      \"column\": \"passenger_count\",\n      \"properties\": {\n        \"dtype\": \"number\",\n        \"std\": 2,\n        \"min\": 1,\n        \"max\": 4,\n        \"num_unique_values\": 2,\n        \"samples\": [\n          4,\n          1\n        ],\n        \"semantic_type\": \"\",\n        \"description\": \"\"\n      }\n    },\n    {\n      \"column\": \"trip_distance\",\n      \"properties\": {\n        \"dtype\": \"number\",\n        \"std\": 4.843681451127851,\n        \"min\": 0.9,\n        \"max\": 7.75,\n        \"num_unique_values\": 2,\n        \"samples\": [\n          7.75,\n          0.9\n        ],\n        \"semantic_type\": \"\",\n        \"description\": \"\"\n      }\n    },\n    {\n      \"column\": \"ratecodeid\",\n      \"properties\": {\n        \"dtype\": \"number\",\n        \"std\": 0,\n        \"min\": 1,\n        \"max\": 1,\n        \"num_unique_values\": 1,\n        \"samples\": [\n          1\n        ],\n        \"semantic_type\": \"\",\n        \"description\": \"\"\n      }\n    },\n    {\n      \"column\": \"store_and_fwd_flag\",\n      \"properties\": {\n        \"dtype\": \"string\",\n        \"num_unique_values\": 1,\n        \"samples\": [\n          \"N\"\n        ],\n        \"semantic_type\": \"\",\n        \"description\": \"\"\n      }\n    },\n    {\n      \"column\": \"pulocationid\",\n      \"properties\": {\n        \"dtype\": \"number\",\n        \"std\": 0,\n        \"min\": 186,\n        \"max\": 186,\n        \"num_unique_values\": 1,\n        \"samples\": [\n          186\n        ],\n        \"semantic_type\": \"\",\n        \"description\": \"\"\n      }\n    },\n    {\n      \"column\": \"dolocationid\",\n      \"properties\": {\n        \"dtype\": \"number\",\n        \"std\": 140,\n        \"min\": 36,\n        \"max\": 234,\n        \"num_unique_values\": 2,\n        \"samples\": [\n          36\n        ],\n        \"semantic_type\": \"\",\n        \"description\": \"\"\n      }\n    },\n    {\n      \"column\": \"payment_type\",\n      \"properties\": {\n        \"dtype\": \"number\",\n        \"std\": 0,\n        \"min\": 1,\n        \"max\": 1,\n        \"num_unique_values\": 1,\n        \"samples\": [\n          1\n        ],\n        \"semantic_type\": \"\",\n        \"description\": \"\"\n      }\n    },\n    {\n      \"column\": \"fare_amount\",\n      \"properties\": {\n        \"dtype\": \"number\",\n        \"std\": 12.020815280171307,\n        \"min\": 5.0,\n        \"max\": 22.0,\n        \"num_unique_values\": 2,\n        \"samples\": [\n          22.0\n        ],\n        \"semantic_type\": \"\",\n        \"description\": \"\"\n      }\n    },\n    {\n      \"column\": \"extra\",\n      \"properties\": {\n        \"dtype\": \"number\",\n        \"std\": 0.3535533905932738,\n        \"min\": 0.0,\n        \"max\": 0.5,\n        \"num_unique_values\": 2,\n        \"samples\": [\n          0.5\n        ],\n        \"semantic_type\": \"\",\n        \"description\": \"\"\n      }\n    },\n    {\n      \"column\": \"mta_tax\",\n      \"properties\": {\n        \"dtype\": \"number\",\n        \"std\": 0.0,\n        \"min\": 0.5,\n        \"max\": 0.5,\n        \"num_unique_values\": 1,\n        \"samples\": [\n          0.5\n        ],\n        \"semantic_type\": \"\",\n        \"description\": \"\"\n      }\n    },\n    {\n      \"column\": \"tip_amount\",\n      \"properties\": {\n        \"dtype\": \"number\",\n        \"std\": 2.269812767608818,\n        \"min\": 1.45,\n        \"max\": 4.66,\n        \"num_unique_values\": 2,\n        \"samples\": [\n          4.66\n        ],\n        \"semantic_type\": \"\",\n        \"description\": \"\"\n      }\n    },\n    {\n      \"column\": \"tolls_amount\",\n      \"properties\": {\n        \"dtype\": \"number\",\n        \"std\": 0.0,\n        \"min\": 0.0,\n        \"max\": 0.0,\n        \"num_unique_values\": 1,\n        \"samples\": [\n          0.0\n        ],\n        \"semantic_type\": \"\",\n        \"description\": \"\"\n      }\n    },\n    {\n      \"column\": \"improvement_surcharge\",\n      \"properties\": {\n        \"dtype\": \"number\",\n        \"std\": 0.0,\n        \"min\": 0.3,\n        \"max\": 0.3,\n        \"num_unique_values\": 1,\n        \"samples\": [\n          0.3\n        ],\n        \"semantic_type\": \"\",\n        \"description\": \"\"\n      }\n    },\n    {\n      \"column\": \"total_amount\",\n      \"properties\": {\n        \"dtype\": \"number\",\n        \"std\": 14.6441814383734,\n        \"min\": 7.25,\n        \"max\": 27.96,\n        \"num_unique_values\": 2,\n        \"samples\": [\n          27.96\n        ],\n        \"semantic_type\": \"\",\n        \"description\": \"\"\n      }\n    }\n  ]\n}"
            }
          },
          "metadata": {},
          "execution_count": 2
        }
      ],
      "source": [
        "import pandas as pd\n",
        "url = \"https://data.cityofnewyork.us/resource/biws-g3hs.json?pulocationid=186\"\n",
        "df = pd.read_json(url)\n",
        "df[:2]"
      ]
    },
    {
      "cell_type": "markdown",
      "metadata": {
        "id": "nS_iucUdwhqK"
      },
      "source": [
        "> We just selected two of the trips near Madison Square Garden.  \n",
        "> But we could view more trips by changing the number in `df[:2]` to something larger (and then `shift + return`) again.  "
      ]
    },
    {
      "cell_type": "markdown",
      "metadata": {
        "id": "h65M_DsDwhqK"
      },
      "source": [
        "Or let's say we to find information about Billie Eilish albums on Itunes.  For that, we can search the ITunes API for Billie Eilish albums, limiting to the first returned result.\n",
        "\n",
        "> Press `shift + return` on the cell below."
      ]
    },
    {
      "cell_type": "code",
      "execution_count": 3,
      "metadata": {
        "id": "O9E4VzRnwhqL",
        "outputId": "904a5060-8750-4606-fea5-00c10481225b",
        "colab": {
          "base_uri": "https://localhost:8080/"
        }
      },
      "outputs": [
        {
          "output_type": "execute_result",
          "data": {
            "text/plain": [
              "[{'resultCount': 1,\n",
              "  'results': {'wrapperType': 'collection',\n",
              "   'collectionType': 'Album',\n",
              "   'artistId': 1129439109,\n",
              "   'collectionId': 1628828345,\n",
              "   'artistName': 'Armani White',\n",
              "   'collectionName': 'BILLIE EILISH. - Single',\n",
              "   'collectionCensoredName': 'BILLIE EILISH. - Single',\n",
              "   'artistViewUrl': 'https://music.apple.com/us/artist/armani-white/1129439109?uo=4',\n",
              "   'collectionViewUrl': 'https://music.apple.com/us/album/billie-eilish-single/1628828345?uo=4',\n",
              "   'artworkUrl60': 'https://is1-ssl.mzstatic.com/image/thumb/Music112/v4/c1/ea/3a/c1ea3a25-93af-84fd-2ca6-59e4210f58aa/22UMGIM62666.rgb.jpg/60x60bb.jpg',\n",
              "   'artworkUrl100': 'https://is1-ssl.mzstatic.com/image/thumb/Music112/v4/c1/ea/3a/c1ea3a25-93af-84fd-2ca6-59e4210f58aa/22UMGIM62666.rgb.jpg/100x100bb.jpg',\n",
              "   'collectionPrice': 1.29,\n",
              "   'collectionExplicitness': 'explicit',\n",
              "   'contentAdvisoryRating': 'Explicit',\n",
              "   'trackCount': 1,\n",
              "   'copyright': '℗ 2022 Legendbound, LLC, under exclusive license to Def Jam Recordings, a division of UMG Recordings Inc.',\n",
              "   'country': 'USA',\n",
              "   'currency': 'USD',\n",
              "   'releaseDate': '2022-05-19T07:00:00Z',\n",
              "   'primaryGenreName': 'Hip-Hop/Rap'}}]"
            ]
          },
          "metadata": {},
          "execution_count": 3
        }
      ],
      "source": [
        "import pandas as pd\n",
        "url = \"https://itunes.apple.com/search?term=billie+eilish&entity=album&limit=1\"\n",
        "df = pd.read_json(url)\n",
        "df.to_dict('records')"
      ]
    },
    {
      "cell_type": "markdown",
      "metadata": {
        "id": "ReQMkyxgwhqN"
      },
      "source": [
        "If you look our the two blocks of code above you can see that they are quite similar.  And you may even be able to get a sense of what the code is doing.  \n",
        "> But of course, we'll later walk through each line of code to really understand them.  \n",
        "\n",
        "The point is this:"
      ]
    },
    {
      "cell_type": "markdown",
      "metadata": {
        "id": "rCY2ZapbwhqQ"
      },
      "source": [
        "**Yes**, you can do it."
      ]
    },
    {
      "cell_type": "markdown",
      "metadata": {
        "id": "aMwcztYGwhqR"
      },
      "source": [
        "## But is coding worth it?"
      ]
    },
    {
      "cell_type": "markdown",
      "metadata": {
        "id": "6nJEl9gPwhqT"
      },
      "source": [
        "Here's my story.  I started coding while working in a market research role.  One of my coworkers knew a bit of coding, and I saw that it was easier for him to both **find information**, and also to **take action** with this information.  That's what motivated me to code -- it was only afterwards that I fell in love with it."
      ]
    },
    {
      "cell_type": "markdown",
      "metadata": {
        "id": "q2-jOIJgwhqT"
      },
      "source": [
        "That is what we'll learn over these next lessons -- how coding can help us find information and take action.  But more importantly, we'll learn the coding *fundamentals* to develop our skills afterwards."
      ]
    },
    {
      "cell_type": "markdown",
      "metadata": {
        "id": "Y8QMVxpkwhqU"
      },
      "source": [
        "Steve Jobs offers another reason for learning to code:"
      ]
    },
    {
      "cell_type": "markdown",
      "metadata": {
        "id": "rtqPrmHswhqU"
      },
      "source": [
        "> \"In my perspective ... science and computer science is a liberal art, it's something everyone should know how to use, at least, and harness in their life. It's not something that should be relegated to 5 percent of the population over in the corner. It's something that everybody should be exposed to and everyone should have mastery of to some extent.\"\n",
        ">\n",
        "> [Steve Jobs (Fresh Air 1996 Interview)](https://www.npr.org/2011/10/06/141115121/steve-jobs-computer-science-is-a-liberal-art)"
      ]
    },
    {
      "cell_type": "markdown",
      "metadata": {
        "id": "_MHLfoIYwhqV"
      },
      "source": [
        "## But why Python?"
      ]
    },
    {
      "cell_type": "markdown",
      "metadata": {
        "id": "v-tDJEglwhqW"
      },
      "source": [
        "Python is a great language for beginners to work with.  It is a powerful and easy to understand language, that's also quite popular.  Below is a chart from a [2020 stackoverflow survey](https://insights.stackoverflow.com/survey/2020#technology-programming-scripting-and-markup-languages-professional-developers) showing the most popular programming languages.  There's Python - right near the top."
      ]
    },
    {
      "cell_type": "markdown",
      "metadata": {
        "id": "0GND9At2whqW"
      },
      "source": [
        "> <img src=\"https://github.com/jigsawlabs-student/code-intro/blob/master/python-pop.png?raw=1\" width=\"70%\">"
      ]
    },
    {
      "cell_type": "markdown",
      "metadata": {
        "id": "Jh2RRMmhwhqW"
      },
      "source": [
        "A large reason why Python is so popular is because of the various uses for it.  We can use it to develop websites, or to perform data analysis.  "
      ]
    },
    {
      "cell_type": "markdown",
      "metadata": {
        "id": "q1VTiBG1whqX"
      },
      "source": [
        "### Conclusion"
      ]
    },
    {
      "cell_type": "markdown",
      "metadata": {
        "id": "ga2Y4DDpwhqY"
      },
      "source": [
        "Over the next lessons, we'll get up and running in Python.  We'll do so in a way where we not only learn the fundamentals of coding, but also learn how to apply coding to solve real life problems.  Let's get started.  \n",
        "\n",
        "Click the yellow next below."
      ]
    },
    {
      "cell_type": "markdown",
      "metadata": {
        "id": "ALeMNvoiwhqY"
      },
      "source": [
        "> **Note**: If you are on a phone, the next buttton may not work.  So click on the Jigsaw Labs icon to go to the table of contents."
      ]
    },
    {
      "cell_type": "markdown",
      "metadata": {
        "id": "7ODxbR92whqZ"
      },
      "source": [
        "<right>\n",
        "<a href=\"https://colab.research.google.com/github/jigsawlabs-student/code-intro/blob/master/1-visual-variables.ipynb\">\n",
        "<img src=\"https://github.com/jigsawlabs-student/code-intro/blob/master/next-yellow.jpg?raw=1\" align=\"right\" style=\"padding-right: 20px\" width=\"10%\">\n",
        "    </a>\n",
        "</right>"
      ]
    },
    {
      "cell_type": "markdown",
      "metadata": {
        "id": "wH2Ngv-owhqZ"
      },
      "source": [
        "<center>\n",
        "<a href=\"https://www.jigsawlabs.io\" style=\"position: center\"><img src=\"https://github.com/jigsawlabs-student/code-intro/blob/master/jigsaw-icon.png?raw=1\" width=\"15%\" style=\"text-align: center\"></a>\n",
        "</center>"
      ]
    }
  ],
  "metadata": {
    "kernelspec": {
      "display_name": "Python 3 (ipykernel)",
      "language": "python",
      "name": "python3"
    },
    "language_info": {
      "codemirror_mode": {
        "name": "ipython",
        "version": 3
      },
      "file_extension": ".py",
      "mimetype": "text/x-python",
      "name": "python",
      "nbconvert_exporter": "python",
      "pygments_lexer": "ipython3",
      "version": "3.10.6"
    },
    "colab": {
      "provenance": []
    }
  },
  "nbformat": 4,
  "nbformat_minor": 0
}