{
 "cells": [
  {
   "cell_type": "markdown",
   "metadata": {},
   "source": [
    "# Movie Data Analysis Project\n",
    "\n",
    "**Project Overview:**\n",
    "\n",
    "In this data analysis project, I delve into a comprehensive dataset from the world of cinema. The dataset contains information about thousands of movies, including details on their genres, budgets, revenues, release years, popularity, and more. I aim to explore and draw valuable insights from this dataset, shedding light on various aspects of the movie industry.\n",
    "\n",
    "**Key Questions:**\n",
    "\n",
    "To guide my analysis, I have defined specific questions and objectives, such as:\n",
    "\n",
    "1. What are the most common movie genres in the dataset?\n",
    "2. Which directors have produced the highest number of movies?\n",
    "3. How has movie production evolved over the years?\n",
    "4. What is the distribution of vote averages among the movies?\n",
    "5. Is there a correlation between movie budgets and revenues?"
   ]
  },
  {
   "cell_type": "code",
   "execution_count": 1,
   "metadata": {},
   "outputs": [],
   "source": [
    "# Import libraries\n",
    "import pandas as pd\n",
    "import numpy as np\n",
    "import matplotlib.pyplot as plt\n",
    "import seaborn as sns\n",
    "import datetime"
   ]
  },
  {
   "cell_type": "code",
   "execution_count": null,
   "metadata": {},
   "outputs": [],
   "source": []
  }
 ],
 "metadata": {
  "kernelspec": {
   "display_name": "Python 3",
   "language": "python",
   "name": "python3"
  },
  "language_info": {
   "codemirror_mode": {
    "name": "ipython",
    "version": 3
   },
   "file_extension": ".py",
   "mimetype": "text/x-python",
   "name": "python",
   "nbconvert_exporter": "python",
   "pygments_lexer": "ipython3",
   "version": "3.10.8"
  }
 },
 "nbformat": 4,
 "nbformat_minor": 2
}
